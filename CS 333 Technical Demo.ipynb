{
 "cells": [
  {
   "cell_type": "code",
   "execution_count": 277,
   "metadata": {},
   "outputs": [],
   "source": [
    "import networkx as nx\n",
    "import numpy as np\n",
    "import matplotlib.pyplot as plt\n",
    "import matplotlib.animation as animation\n",
    "import random\n",
    "import copy\n",
    "seed_value=46"
   ]
  },
  {
   "cell_type": "code",
   "execution_count": 278,
   "metadata": {},
   "outputs": [],
   "source": [
    "def divide_into_subgraphs(graph, n):\n",
    "    # Ensure n is a positive integer less than or equal to the number of nodes in the graph\n",
    "    if not isinstance(n, int) or n <= 0 or n > len(graph.nodes):\n",
    "        raise ValueError(\"Invalid value for n. It should be a positive integer less than or equal to the number of nodes in the graph.\")\n",
    "\n",
    "    # Get the list of nodes in the graph\n",
    "    all_nodes = list(graph.nodes)\n",
    "\n",
    "    # Calculate the number of nodes in each subgraph\n",
    "    nodes_per_subgraph = len(all_nodes) // n\n",
    "\n",
    "    # Initialize empty subgraph list\n",
    "    subgraphs = []\n",
    "\n",
    "    # Divide nodes into n subgraphs\n",
    "    for i in range(n):\n",
    "        start_index = i * nodes_per_subgraph\n",
    "        end_index = (i + 1) * nodes_per_subgraph if i < n - 1 else len(all_nodes)\n",
    "        subgraph_nodes = all_nodes[start_index:end_index]\n",
    "\n",
    "        subgraph = graph.subgraph(subgraph_nodes)\n",
    "        subgraphs.append(subgraph)\n",
    "\n",
    "    return subgraphs"
   ]
  },
  {
   "cell_type": "code",
   "execution_count": 279,
   "metadata": {},
   "outputs": [],
   "source": [
    "def visualize_subgraphs(graph, subgraphs, highlighted_edge=\"none\"):\n",
    "    pos = nx.spring_layout(graph, seed=seed_value)  # You can use a different layout if you prefer\n",
    "\n",
    "    # Draw the original graph\n",
    "    nx.draw(graph, pos, with_labels=True, font_weight='bold', node_color='lightgray', edge_color='gray', node_size=700)\n",
    "\n",
    "    # Draw each subgraph with a different color\n",
    "    for i, subgraph in enumerate(subgraphs, start=1):\n",
    "        nx.draw(subgraph, pos, with_labels=True, font_weight='bold', node_color=f'C{i}', edge_color=f'C{i}', node_size=700)\n",
    "\n",
    "    # Highlight the specified edge if it's not \"none\"\n",
    "    if highlighted_edge != \"none\":\n",
    "        nx.draw_networkx_edges(graph, pos, edgelist=[highlighted_edge], edge_color='purple', width=2)\n",
    "\n",
    "    plt.show()"
   ]
  },
  {
   "cell_type": "code",
   "execution_count": 280,
   "metadata": {},
   "outputs": [],
   "source": [
    "def get_edges_between_subgraphs(graph, subgraphs):\n",
    "    edges_between_subgraphs = []\n",
    "    for i in range(len(subgraphs)):\n",
    "        for j in range(i + 1, len(subgraphs)):\n",
    "            edges_between_subgraphs.extend(nx.edge_boundary(graph, subgraphs[i], subgraphs[j]))\n",
    "    return edges_between_subgraphs"
   ]
  },
  {
   "cell_type": "code",
   "execution_count": 281,
   "metadata": {},
   "outputs": [],
   "source": [
    "def get_random_edge_between_subgraphs(graph, subgraphs):\n",
    "    edges_between_subgraphs = get_edges_between_subgraphs(graph, subgraphs)\n",
    "    if edges_between_subgraphs:\n",
    "        return random.choice(edges_between_subgraphs)\n",
    "    else:\n",
    "        return None"
   ]
  },
  {
   "cell_type": "code",
   "execution_count": 282,
   "metadata": {},
   "outputs": [],
   "source": [
    "def create_proposed_state(graph, subgraphs, conflicted_edge):\n",
    "    # Create deep copies of the graph and subgraphs\n",
    "    modified_graph = copy.deepcopy(graph)\n",
    "    modified_subgraphs = [subgraph.copy() for subgraph in subgraphs]\n",
    "\n",
    "    # Get the nodes connected by the conflicted edge\n",
    "    node1, node2 = conflicted_edge\n",
    "\n",
    "    # Choose one of the nodes randomly\n",
    "    node_to_move = random.choice([node1, node2])\n",
    "\n",
    "    # Find the index of the subgraph containing the node to move\n",
    "    index_with_node = next((i for i, subgraph in enumerate(modified_subgraphs) if node_to_move in subgraph), None)\n",
    "\n",
    "    # Find the node not selected in the random choice\n",
    "    node_not_selected = node2 if node_to_move == node1 else node1\n",
    "\n",
    "    if index_with_node is not None:\n",
    "        # Remove the node from its current subgraph\n",
    "        modified_subgraphs[index_with_node].remove_node(node_to_move)\n",
    "\n",
    "        # Find the index of the subgraph not containing the node\n",
    "        index_other_node = next((i for i, subgraph in enumerate(modified_subgraphs) if node_not_selected in subgraph), None)\n",
    "\n",
    "        # Add the node to the other subgraph\n",
    "        modified_subgraphs[index_other_node].add_node(node_to_move)\n",
    "\n",
    "    return modified_graph, modified_subgraphs\n"
   ]
  },
  {
   "cell_type": "code",
   "execution_count": 283,
   "metadata": {},
   "outputs": [],
   "source": [
    "def calculate_total_population(graph):\n",
    "    total_population = sum(graph.nodes[node]['population'] for node in graph.nodes)\n",
    "    return total_population"
   ]
  },
  {
   "cell_type": "code",
   "execution_count": 284,
   "metadata": {},
   "outputs": [],
   "source": [
    "c_pop=.3\n",
    "def populationscore(graph,subgraphs):\n",
    "    totalsum=0\n",
    "    districtaverage=total_population/len(subgraphs)\n",
    "    for i, subgraph in enumerate(subgraphs, start=1):\n",
    "        # Calculate the sum of populations for each subgraph\n",
    "        population_sum = sum(graph.nodes[node]['population'] for node in subgraph.nodes)\n",
    "        totalsum+=(population_sum-districtaverage)**2\n",
    "    return(c_pop*totalsum)"
   ]
  },
  {
   "cell_type": "code",
   "execution_count": 287,
   "metadata": {},
   "outputs": [],
   "source": [
    "def PVIscore(graph,subgraphs):\n",
    "    return 0"
   ]
  },
  {
   "cell_type": "code",
   "execution_count": 294,
   "metadata": {},
   "outputs": [],
   "source": [
    "lambda_J=1\n",
    "def totalscorefunction(graph,subgraph):\n",
    "    return lambda_J*populationscore(graph,subgraph)+(1-lambda_J)*PVIscore(graph,subgraph)"
   ]
  },
  {
   "cell_type": "code",
   "execution_count": 295,
   "metadata": {},
   "outputs": [],
   "source": [
    "beta=0.002\n",
    "def one_iteration_of_MCMC(graph,subgraphs):\n",
    "    con1=len(get_edges_between_subgraphs(graph,subgraphs))\n",
    "    conflicted_edge = get_random_edge_between_subgraphs(graph, subgraphs)\n",
    "    proposed_graph, proposed_subgraphs = create_proposed_state(test_graph, testsubgraphs, conflicted_edge)\n",
    "    con2=len(get_edges_between_subgraphs(proposed_graph,proposed_subgraphs))\n",
    "    probfromscorefunctions=np.exp(-1*beta*(totalscorefunction(proposed_graph,proposed_subgraphs)-totalscorefunction(graph,subgraphs))) \n",
    "    transitionprobability=min(1,con1/con2,float(probfromscorefunctions))\n",
    "    print(transitionprobability)\n",
    "    # Generate a random number between 0 and 1\n",
    "    random_number = np.random.rand()\n",
    "\n",
    "    # Check if the random number is less than the transition probability\n",
    "    if random_number < transitionprobability:\n",
    "        return proposed_graph, proposed_subgraphs\n",
    "    else:\n",
    "        return graph, subgraphs\n",
    "\n",
    "    \n",
    "    "
   ]
  },
  {
   "cell_type": "code",
   "execution_count": 293,
   "metadata": {},
   "outputs": [],
   "source": [
    "def Redistricting_MCMC(graph, subgraphs,num_iterations):\n",
    "    # Perform MCMC iterations\n",
    "    for _ in range(num_iterations):\n",
    "        # Call one_iteration_of_MCMC for each iteration\n",
    "        graph, subgraphs = one_iteration_of_MCMC(graph, subgraphs)\n",
    "    return graph, subgraphs"
   ]
  }
 ],
 "metadata": {
  "kernelspec": {
   "display_name": "base",
   "language": "python",
   "name": "python3"
  },
  "language_info": {
   "codemirror_mode": {
    "name": "ipython",
    "version": 3
   },
   "file_extension": ".py",
   "mimetype": "text/x-python",
   "name": "python",
   "nbconvert_exporter": "python",
   "pygments_lexer": "ipython3",
   "version": "3.11.4"
  }
 },
 "nbformat": 4,
 "nbformat_minor": 2
}
